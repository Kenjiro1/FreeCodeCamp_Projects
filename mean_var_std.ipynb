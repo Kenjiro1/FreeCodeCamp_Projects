{
 "cells": [
  {
   "cell_type": "code",
   "execution_count": 18,
   "id": "7e99464b-e9f9-49df-8fe4-3d1b8382bc07",
   "metadata": {},
   "outputs": [],
   "source": [
    "import pandas as pd\n",
    "import numpy as np\n",
    "\n",
    "def calculate(list):\n",
    "    if len(list) != 9:\n",
    "        raise \"ValueError: List must contain nine numbers\"\n",
    "\n",
    "    else:\n",
    "       matrix = np.array(list).reshape(3,3)\n",
    "       Calculation = {\n",
    "            'Mean': [matrix.mean(axis=0).tolist(), \n",
    "                matrix.mean(axis=1).tolist(),\n",
    "                matrix.mean().tolist()],\n",
    "           \n",
    "            'Variance':[matrix.var(axis=0).tolist(),\n",
    "                       matrix.var(axis=1).tolist(),\n",
    "                       matrix.var().tolist()], \n",
    "\n",
    "            'Standard Deviation': [matrix.std(axis=0).tolist(),\n",
    "                                  matrix.std(axis=1).tolist(),\n",
    "                                  matrix.std().tolist()],\n",
    "\n",
    "           'max': [matrix.max(axis=0).tolist(),\n",
    "                  matrix.max(axis=1).tolist(),\n",
    "                  matrix.max().tolist()],\n",
    "\n",
    "           'min': [matrix.min(axis=0).tolist(),\n",
    "                  matrix.min(axis=1).tolist(),\n",
    "                  matrix.min().tolist()],\n",
    "\n",
    "           'Sum': [matrix.sum(axis=0).tolist(),\n",
    "                  matrix.sum(axis=1).tolist(),\n",
    "                  matrix.sum().tolist()]\n",
    "        }\n",
    "    return Calculation\n",
    "        "
   ]
  },
  {
   "cell_type": "code",
   "execution_count": 19,
   "id": "ff592f27-1a3b-4b4b-8b1c-bfc0a7bcc495",
   "metadata": {},
   "outputs": [
    {
     "data": {
      "text/plain": [
       "{'Mean': [[3.0, 4.0, 5.0], [1.0, 4.0, 7.0], 4.0],\n",
       " 'Variance': [[6.0, 6.0, 6.0],\n",
       "  [0.6666666666666666, 0.6666666666666666, 0.6666666666666666],\n",
       "  6.666666666666667],\n",
       " 'Standard Deviation': [[2.449489742783178,\n",
       "   2.449489742783178,\n",
       "   2.449489742783178],\n",
       "  [0.816496580927726, 0.816496580927726, 0.816496580927726],\n",
       "  2.581988897471611],\n",
       " 'max': [[6, 7, 8], [2, 5, 8], 8],\n",
       " 'min': [[0, 1, 2], [0, 3, 6], 0],\n",
       " 'Sum': [[9, 12, 15], [3, 12, 21], 36]}"
      ]
     },
     "execution_count": 19,
     "metadata": {},
     "output_type": "execute_result"
    }
   ],
   "source": [
    "calculate([0,1,2,3,4,5,6,7,8])"
   ]
  },
  {
   "cell_type": "code",
   "execution_count": null,
   "id": "68638623-1f73-4af3-a758-bef740f3fdd1",
   "metadata": {},
   "outputs": [],
   "source": []
  }
 ],
 "metadata": {
  "kernelspec": {
   "display_name": "Python 3 (ipykernel)",
   "language": "python",
   "name": "python3"
  },
  "language_info": {
   "codemirror_mode": {
    "name": "ipython",
    "version": 3
   },
   "file_extension": ".py",
   "mimetype": "text/x-python",
   "name": "python",
   "nbconvert_exporter": "python",
   "pygments_lexer": "ipython3",
   "version": "3.13.5"
  }
 },
 "nbformat": 4,
 "nbformat_minor": 5
}
